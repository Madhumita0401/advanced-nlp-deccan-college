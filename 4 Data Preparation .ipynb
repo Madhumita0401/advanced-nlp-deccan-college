{
 "cells": [
  {
   "cell_type": "markdown",
   "id": "63e85e63-6b56-462c-82d2-601d062d8712",
   "metadata": {},
   "source": [
    "##### Name- Madhumita Pal\n",
    "##### Enrollment No.- 0004"
   ]
  },
  {
   "cell_type": "markdown",
   "id": "1a4f5bf2-d274-4643-a3f6-452c6751bacb",
   "metadata": {},
   "source": [
    "# Bag of Words"
   ]
  },
  {
   "cell_type": "code",
   "execution_count": 32,
   "id": "7276944d-bc27-491d-9d42-b51677bbb4a7",
   "metadata": {},
   "outputs": [],
   "source": [
    "from nltk.tokenize import word_tokenize"
   ]
  },
  {
   "cell_type": "code",
   "execution_count": 33,
   "id": "3c63b159-35c2-4e95-af06-12e6c693c816",
   "metadata": {},
   "outputs": [],
   "source": [
    "import pandas as pd"
   ]
  },
  {
   "cell_type": "code",
   "execution_count": 34,
   "id": "5ffd2502-8580-40c6-916f-645da3a73634",
   "metadata": {},
   "outputs": [],
   "source": [
    "sentence_1= 'It was a good practice for us.'\n",
    "sentence_2= 'It was also good to know about it.'\n",
    "sentence_3= 'For all of us they have done a good practice.'"
   ]
  },
  {
   "cell_type": "code",
   "execution_count": 35,
   "id": "da57e24f-45b6-4213-bfd4-f2617c714ecf",
   "metadata": {},
   "outputs": [],
   "source": [
    "# find the list of all distinct words present in thse three sentences."
   ]
  },
  {
   "cell_type": "code",
   "execution_count": 36,
   "id": "3d42a2d9-6b17-403c-9836-7a2484e33eae",
   "metadata": {},
   "outputs": [
    {
     "data": {
      "text/plain": [
       "{'.',\n",
       " 'a',\n",
       " 'about',\n",
       " 'all',\n",
       " 'also',\n",
       " 'done',\n",
       " 'for',\n",
       " 'good',\n",
       " 'have',\n",
       " 'it',\n",
       " 'know',\n",
       " 'of',\n",
       " 'practice',\n",
       " 'they',\n",
       " 'to',\n",
       " 'us',\n",
       " 'was'}"
      ]
     },
     "execution_count": 36,
     "metadata": {},
     "output_type": "execute_result"
    }
   ],
   "source": [
    "words = word_tokenize(sentence_1.lower()) + word_tokenize(sentence_2.lower()) + word_tokenize(sentence_3.lower())\n",
    "set(words)"
   ]
  },
  {
   "cell_type": "code",
   "execution_count": 37,
   "id": "1ea85061-ec29-40da-9813-7a177eeadc8a",
   "metadata": {},
   "outputs": [],
   "source": [
    "tokens = set(words)"
   ]
  },
  {
   "cell_type": "code",
   "execution_count": 38,
   "id": "9c1d9e98-9859-4092-8e86-15d3ac36fd49",
   "metadata": {},
   "outputs": [
    {
     "data": {
      "text/plain": [
       "{'.',\n",
       " 'a',\n",
       " 'about',\n",
       " 'all',\n",
       " 'also',\n",
       " 'done',\n",
       " 'for',\n",
       " 'good',\n",
       " 'have',\n",
       " 'it',\n",
       " 'know',\n",
       " 'of',\n",
       " 'practice',\n",
       " 'they',\n",
       " 'to',\n",
       " 'us',\n",
       " 'was'}"
      ]
     },
     "execution_count": 38,
     "metadata": {},
     "output_type": "execute_result"
    }
   ],
   "source": [
    "tokens"
   ]
  },
  {
   "cell_type": "code",
   "execution_count": 16,
   "id": "3a841a26-de01-45dc-8e46-38af729e9311",
   "metadata": {},
   "outputs": [
    {
     "data": {
      "text/plain": [
       "['it',\n",
       " 'to',\n",
       " 'practice',\n",
       " 'done',\n",
       " 'about',\n",
       " 'all',\n",
       " 'know',\n",
       " 'was',\n",
       " 'for',\n",
       " 'good',\n",
       " 'they',\n",
       " 'have',\n",
       " 'us',\n",
       " '.',\n",
       " 'also',\n",
       " 'a',\n",
       " 'of']"
      ]
     },
     "execution_count": 16,
     "metadata": {},
     "output_type": "execute_result"
    }
   ],
   "source": [
    "list(tokens)"
   ]
  },
  {
   "cell_type": "code",
   "execution_count": 39,
   "id": "ddfa406f-93fa-4a4a-9b05-59394c299d8e",
   "metadata": {},
   "outputs": [
    {
     "data": {
      "text/html": [
       "<div>\n",
       "<style scoped>\n",
       "    .dataframe tbody tr th:only-of-type {\n",
       "        vertical-align: middle;\n",
       "    }\n",
       "\n",
       "    .dataframe tbody tr th {\n",
       "        vertical-align: top;\n",
       "    }\n",
       "\n",
       "    .dataframe thead th {\n",
       "        text-align: right;\n",
       "    }\n",
       "</style>\n",
       "<table border=\"1\" class=\"dataframe\">\n",
       "  <thead>\n",
       "    <tr style=\"text-align: right;\">\n",
       "      <th></th>\n",
       "      <th>it</th>\n",
       "      <th>to</th>\n",
       "      <th>practice</th>\n",
       "      <th>done</th>\n",
       "      <th>about</th>\n",
       "      <th>all</th>\n",
       "      <th>know</th>\n",
       "      <th>was</th>\n",
       "      <th>for</th>\n",
       "      <th>good</th>\n",
       "      <th>they</th>\n",
       "      <th>have</th>\n",
       "      <th>us</th>\n",
       "      <th>.</th>\n",
       "      <th>also</th>\n",
       "      <th>a</th>\n",
       "      <th>of</th>\n",
       "    </tr>\n",
       "  </thead>\n",
       "  <tbody>\n",
       "    <tr>\n",
       "      <th>1</th>\n",
       "      <td>NaN</td>\n",
       "      <td>NaN</td>\n",
       "      <td>NaN</td>\n",
       "      <td>NaN</td>\n",
       "      <td>NaN</td>\n",
       "      <td>NaN</td>\n",
       "      <td>NaN</td>\n",
       "      <td>NaN</td>\n",
       "      <td>NaN</td>\n",
       "      <td>NaN</td>\n",
       "      <td>NaN</td>\n",
       "      <td>NaN</td>\n",
       "      <td>NaN</td>\n",
       "      <td>NaN</td>\n",
       "      <td>NaN</td>\n",
       "      <td>NaN</td>\n",
       "      <td>NaN</td>\n",
       "    </tr>\n",
       "    <tr>\n",
       "      <th>2</th>\n",
       "      <td>NaN</td>\n",
       "      <td>NaN</td>\n",
       "      <td>NaN</td>\n",
       "      <td>NaN</td>\n",
       "      <td>NaN</td>\n",
       "      <td>NaN</td>\n",
       "      <td>NaN</td>\n",
       "      <td>NaN</td>\n",
       "      <td>NaN</td>\n",
       "      <td>NaN</td>\n",
       "      <td>NaN</td>\n",
       "      <td>NaN</td>\n",
       "      <td>NaN</td>\n",
       "      <td>NaN</td>\n",
       "      <td>NaN</td>\n",
       "      <td>NaN</td>\n",
       "      <td>NaN</td>\n",
       "    </tr>\n",
       "    <tr>\n",
       "      <th>3</th>\n",
       "      <td>NaN</td>\n",
       "      <td>NaN</td>\n",
       "      <td>NaN</td>\n",
       "      <td>NaN</td>\n",
       "      <td>NaN</td>\n",
       "      <td>NaN</td>\n",
       "      <td>NaN</td>\n",
       "      <td>NaN</td>\n",
       "      <td>NaN</td>\n",
       "      <td>NaN</td>\n",
       "      <td>NaN</td>\n",
       "      <td>NaN</td>\n",
       "      <td>NaN</td>\n",
       "      <td>NaN</td>\n",
       "      <td>NaN</td>\n",
       "      <td>NaN</td>\n",
       "      <td>NaN</td>\n",
       "    </tr>\n",
       "  </tbody>\n",
       "</table>\n",
       "</div>"
      ],
      "text/plain": [
       "    it   to practice done about  all know  was  for good they have   us    .  \\\n",
       "1  NaN  NaN      NaN  NaN   NaN  NaN  NaN  NaN  NaN  NaN  NaN  NaN  NaN  NaN   \n",
       "2  NaN  NaN      NaN  NaN   NaN  NaN  NaN  NaN  NaN  NaN  NaN  NaN  NaN  NaN   \n",
       "3  NaN  NaN      NaN  NaN   NaN  NaN  NaN  NaN  NaN  NaN  NaN  NaN  NaN  NaN   \n",
       "\n",
       "  also    a   of  \n",
       "1  NaN  NaN  NaN  \n",
       "2  NaN  NaN  NaN  \n",
       "3  NaN  NaN  NaN  "
      ]
     },
     "execution_count": 39,
     "metadata": {},
     "output_type": "execute_result"
    }
   ],
   "source": [
    "df = pd.DataFrame(columns=list(tokens), index=[1,2,3])\n",
    "df"
   ]
  },
  {
   "cell_type": "code",
   "execution_count": 40,
   "id": "e4e35394-fbcf-4f81-871a-58bb46d30102",
   "metadata": {},
   "outputs": [],
   "source": [
    "tokens1= word_tokenize(sentence_1.lower())\n",
    "tokens2= word_tokenize(sentence_2.lower())\n",
    "tokens3= word_tokenize(sentence_3.lower())"
   ]
  },
  {
   "cell_type": "code",
   "execution_count": 41,
   "id": "a98af822-06cc-49ca-9708-246231c1dc02",
   "metadata": {},
   "outputs": [
    {
     "data": {
      "text/plain": [
       "(['it', 'was', 'a', 'good', 'practice', 'for', 'us', '.'],\n",
       " ['it', 'was', 'also', 'good', 'to', 'know', 'about', 'it', '.'],\n",
       " ['for',\n",
       "  'all',\n",
       "  'of',\n",
       "  'us',\n",
       "  'they',\n",
       "  'have',\n",
       "  'done',\n",
       "  'a',\n",
       "  'good',\n",
       "  'practice',\n",
       "  '.'])"
      ]
     },
     "execution_count": 41,
     "metadata": {},
     "output_type": "execute_result"
    }
   ],
   "source": [
    "tokens1, tokens2, tokens3"
   ]
  },
  {
   "cell_type": "code",
   "execution_count": 42,
   "id": "10674af0-fa99-4a5e-9f75-71e979c3ce67",
   "metadata": {},
   "outputs": [],
   "source": [
    "counts1 = [tokens1.count(x) for x in df.columns]\n",
    "counts2 = [tokens2.count(x) for x in df.columns]\n",
    "counts3 = [tokens3.count(x) for x in df.columns]\n"
   ]
  },
  {
   "cell_type": "code",
   "execution_count": 43,
   "id": "be67ed39-7cb0-4cc7-bcd1-b943051dc128",
   "metadata": {},
   "outputs": [
    {
     "data": {
      "text/plain": [
       "([1, 0, 1, 0, 0, 0, 0, 1, 1, 1, 0, 0, 1, 1, 0, 1, 0],\n",
       " [2, 1, 0, 0, 1, 0, 1, 1, 0, 1, 0, 0, 0, 1, 1, 0, 0],\n",
       " [0, 0, 1, 1, 0, 1, 0, 0, 1, 1, 1, 1, 1, 1, 0, 1, 1])"
      ]
     },
     "execution_count": 43,
     "metadata": {},
     "output_type": "execute_result"
    }
   ],
   "source": [
    "counts1, counts2, counts3"
   ]
  },
  {
   "cell_type": "code",
   "execution_count": 44,
   "id": "9ca31779-ec95-4ae7-b09a-942cb44cb784",
   "metadata": {},
   "outputs": [
    {
     "data": {
      "text/html": [
       "<div>\n",
       "<style scoped>\n",
       "    .dataframe tbody tr th:only-of-type {\n",
       "        vertical-align: middle;\n",
       "    }\n",
       "\n",
       "    .dataframe tbody tr th {\n",
       "        vertical-align: top;\n",
       "    }\n",
       "\n",
       "    .dataframe thead th {\n",
       "        text-align: right;\n",
       "    }\n",
       "</style>\n",
       "<table border=\"1\" class=\"dataframe\">\n",
       "  <thead>\n",
       "    <tr style=\"text-align: right;\">\n",
       "      <th></th>\n",
       "      <th>it</th>\n",
       "      <th>to</th>\n",
       "      <th>practice</th>\n",
       "      <th>done</th>\n",
       "      <th>about</th>\n",
       "      <th>all</th>\n",
       "      <th>know</th>\n",
       "      <th>was</th>\n",
       "      <th>for</th>\n",
       "      <th>good</th>\n",
       "      <th>they</th>\n",
       "      <th>have</th>\n",
       "      <th>us</th>\n",
       "      <th>.</th>\n",
       "      <th>also</th>\n",
       "      <th>a</th>\n",
       "      <th>of</th>\n",
       "    </tr>\n",
       "  </thead>\n",
       "  <tbody>\n",
       "    <tr>\n",
       "      <th>1</th>\n",
       "      <td>NaN</td>\n",
       "      <td>NaN</td>\n",
       "      <td>NaN</td>\n",
       "      <td>NaN</td>\n",
       "      <td>NaN</td>\n",
       "      <td>NaN</td>\n",
       "      <td>NaN</td>\n",
       "      <td>NaN</td>\n",
       "      <td>NaN</td>\n",
       "      <td>NaN</td>\n",
       "      <td>NaN</td>\n",
       "      <td>NaN</td>\n",
       "      <td>NaN</td>\n",
       "      <td>NaN</td>\n",
       "      <td>NaN</td>\n",
       "      <td>NaN</td>\n",
       "      <td>NaN</td>\n",
       "    </tr>\n",
       "    <tr>\n",
       "      <th>2</th>\n",
       "      <td>NaN</td>\n",
       "      <td>NaN</td>\n",
       "      <td>NaN</td>\n",
       "      <td>NaN</td>\n",
       "      <td>NaN</td>\n",
       "      <td>NaN</td>\n",
       "      <td>NaN</td>\n",
       "      <td>NaN</td>\n",
       "      <td>NaN</td>\n",
       "      <td>NaN</td>\n",
       "      <td>NaN</td>\n",
       "      <td>NaN</td>\n",
       "      <td>NaN</td>\n",
       "      <td>NaN</td>\n",
       "      <td>NaN</td>\n",
       "      <td>NaN</td>\n",
       "      <td>NaN</td>\n",
       "    </tr>\n",
       "    <tr>\n",
       "      <th>3</th>\n",
       "      <td>NaN</td>\n",
       "      <td>NaN</td>\n",
       "      <td>NaN</td>\n",
       "      <td>NaN</td>\n",
       "      <td>NaN</td>\n",
       "      <td>NaN</td>\n",
       "      <td>NaN</td>\n",
       "      <td>NaN</td>\n",
       "      <td>NaN</td>\n",
       "      <td>NaN</td>\n",
       "      <td>NaN</td>\n",
       "      <td>NaN</td>\n",
       "      <td>NaN</td>\n",
       "      <td>NaN</td>\n",
       "      <td>NaN</td>\n",
       "      <td>NaN</td>\n",
       "      <td>NaN</td>\n",
       "    </tr>\n",
       "  </tbody>\n",
       "</table>\n",
       "</div>"
      ],
      "text/plain": [
       "    it   to practice done about  all know  was  for good they have   us    .  \\\n",
       "1  NaN  NaN      NaN  NaN   NaN  NaN  NaN  NaN  NaN  NaN  NaN  NaN  NaN  NaN   \n",
       "2  NaN  NaN      NaN  NaN   NaN  NaN  NaN  NaN  NaN  NaN  NaN  NaN  NaN  NaN   \n",
       "3  NaN  NaN      NaN  NaN   NaN  NaN  NaN  NaN  NaN  NaN  NaN  NaN  NaN  NaN   \n",
       "\n",
       "  also    a   of  \n",
       "1  NaN  NaN  NaN  \n",
       "2  NaN  NaN  NaN  \n",
       "3  NaN  NaN  NaN  "
      ]
     },
     "execution_count": 44,
     "metadata": {},
     "output_type": "execute_result"
    }
   ],
   "source": [
    "df"
   ]
  },
  {
   "cell_type": "code",
   "execution_count": 45,
   "id": "13e5b2b5-560b-4b71-92fc-423fb81c5b3b",
   "metadata": {},
   "outputs": [],
   "source": [
    "df.iloc[0,:] = counts1\n",
    "df.iloc[1,:] = counts2\n",
    "df.iloc[2,:] = counts3\n"
   ]
  },
  {
   "cell_type": "code",
   "execution_count": 46,
   "id": "811e490c-afeb-4324-8198-ef3ad5bcd357",
   "metadata": {},
   "outputs": [
    {
     "data": {
      "text/html": [
       "<div>\n",
       "<style scoped>\n",
       "    .dataframe tbody tr th:only-of-type {\n",
       "        vertical-align: middle;\n",
       "    }\n",
       "\n",
       "    .dataframe tbody tr th {\n",
       "        vertical-align: top;\n",
       "    }\n",
       "\n",
       "    .dataframe thead th {\n",
       "        text-align: right;\n",
       "    }\n",
       "</style>\n",
       "<table border=\"1\" class=\"dataframe\">\n",
       "  <thead>\n",
       "    <tr style=\"text-align: right;\">\n",
       "      <th></th>\n",
       "      <th>it</th>\n",
       "      <th>to</th>\n",
       "      <th>practice</th>\n",
       "      <th>done</th>\n",
       "      <th>about</th>\n",
       "      <th>all</th>\n",
       "      <th>know</th>\n",
       "      <th>was</th>\n",
       "      <th>for</th>\n",
       "      <th>good</th>\n",
       "      <th>they</th>\n",
       "      <th>have</th>\n",
       "      <th>us</th>\n",
       "      <th>.</th>\n",
       "      <th>also</th>\n",
       "      <th>a</th>\n",
       "      <th>of</th>\n",
       "    </tr>\n",
       "  </thead>\n",
       "  <tbody>\n",
       "    <tr>\n",
       "      <th>1</th>\n",
       "      <td>1</td>\n",
       "      <td>0</td>\n",
       "      <td>1</td>\n",
       "      <td>0</td>\n",
       "      <td>0</td>\n",
       "      <td>0</td>\n",
       "      <td>0</td>\n",
       "      <td>1</td>\n",
       "      <td>1</td>\n",
       "      <td>1</td>\n",
       "      <td>0</td>\n",
       "      <td>0</td>\n",
       "      <td>1</td>\n",
       "      <td>1</td>\n",
       "      <td>0</td>\n",
       "      <td>1</td>\n",
       "      <td>0</td>\n",
       "    </tr>\n",
       "    <tr>\n",
       "      <th>2</th>\n",
       "      <td>2</td>\n",
       "      <td>1</td>\n",
       "      <td>0</td>\n",
       "      <td>0</td>\n",
       "      <td>1</td>\n",
       "      <td>0</td>\n",
       "      <td>1</td>\n",
       "      <td>1</td>\n",
       "      <td>0</td>\n",
       "      <td>1</td>\n",
       "      <td>0</td>\n",
       "      <td>0</td>\n",
       "      <td>0</td>\n",
       "      <td>1</td>\n",
       "      <td>1</td>\n",
       "      <td>0</td>\n",
       "      <td>0</td>\n",
       "    </tr>\n",
       "    <tr>\n",
       "      <th>3</th>\n",
       "      <td>0</td>\n",
       "      <td>0</td>\n",
       "      <td>1</td>\n",
       "      <td>1</td>\n",
       "      <td>0</td>\n",
       "      <td>1</td>\n",
       "      <td>0</td>\n",
       "      <td>0</td>\n",
       "      <td>1</td>\n",
       "      <td>1</td>\n",
       "      <td>1</td>\n",
       "      <td>1</td>\n",
       "      <td>1</td>\n",
       "      <td>1</td>\n",
       "      <td>0</td>\n",
       "      <td>1</td>\n",
       "      <td>1</td>\n",
       "    </tr>\n",
       "  </tbody>\n",
       "</table>\n",
       "</div>"
      ],
      "text/plain": [
       "  it to practice done about all know was for good they have us  . also  a of\n",
       "1  1  0        1    0     0   0    0   1   1    1    0    0  1  1    0  1  0\n",
       "2  2  1        0    0     1   0    1   1   0    1    0    0  0  1    1  0  0\n",
       "3  0  0        1    1     0   1    0   0   1    1    1    1  1  1    0  1  1"
      ]
     },
     "execution_count": 46,
     "metadata": {},
     "output_type": "execute_result"
    }
   ],
   "source": [
    "df"
   ]
  },
  {
   "cell_type": "markdown",
   "id": "cf428554-4c0c-46c1-ae5d-351035983cfd",
   "metadata": {},
   "source": [
    "#### We can do all of this using libraries in a very quick and simple way."
   ]
  },
  {
   "cell_type": "code",
   "execution_count": 47,
   "id": "9f93df77-6ed4-421c-967e-7bd7d02e3ab5",
   "metadata": {},
   "outputs": [],
   "source": [
    "# Import the Count Vectorizer class\n",
    "\n",
    "from sklearn.feature_extraction.text import CountVectorizer"
   ]
  },
  {
   "cell_type": "code",
   "execution_count": 48,
   "id": "b2eee778-faa0-4334-8dc4-6ed0db7b04ec",
   "metadata": {},
   "outputs": [],
   "source": [
    "# Create the object\n",
    "\n",
    "cv = CountVectorizer()"
   ]
  },
  {
   "cell_type": "code",
   "execution_count": 49,
   "id": "7a5b4911-4e46-4914-a143-fd19955602da",
   "metadata": {},
   "outputs": [],
   "source": [
    "# Apply the BOW method\n",
    "\n",
    "mydata = cv.fit_transform([sentence_1, sentence_2, sentence_3])"
   ]
  },
  {
   "cell_type": "code",
   "execution_count": 50,
   "id": "67afcdd3-1e3d-4059-b410-e5a59db66f75",
   "metadata": {},
   "outputs": [
    {
     "data": {
      "text/plain": [
       "array([[0, 0, 0, 0, 1, 1, 0, 1, 0, 0, 1, 0, 0, 1, 1],\n",
       "       [1, 0, 1, 0, 0, 1, 0, 2, 1, 0, 0, 0, 1, 0, 1],\n",
       "       [0, 1, 0, 1, 1, 1, 1, 0, 0, 1, 1, 1, 0, 1, 0]], dtype=int64)"
      ]
     },
     "execution_count": 50,
     "metadata": {},
     "output_type": "execute_result"
    }
   ],
   "source": [
    "mydata.toarray()"
   ]
  },
  {
   "cell_type": "code",
   "execution_count": 51,
   "id": "93e565e4-5a82-4d09-ae57-1f48704f3bb6",
   "metadata": {},
   "outputs": [
    {
     "data": {
      "text/plain": [
       "array(['about', 'all', 'also', 'done', 'for', 'good', 'have', 'it',\n",
       "       'know', 'of', 'practice', 'they', 'to', 'us', 'was'], dtype=object)"
      ]
     },
     "execution_count": 51,
     "metadata": {},
     "output_type": "execute_result"
    }
   ],
   "source": [
    "cv.get_feature_names_out()"
   ]
  },
  {
   "cell_type": "code",
   "execution_count": 52,
   "id": "b48fce48-c3d9-4219-b3f4-aed613352d0d",
   "metadata": {},
   "outputs": [],
   "source": [
    "df = pd.DataFrame(data=mydata.toarray(),\n",
    "                  columns=cv.get_feature_names_out())"
   ]
  },
  {
   "cell_type": "code",
   "execution_count": 53,
   "id": "2dde4607-fa7e-44b7-b928-f7ef09d56b1b",
   "metadata": {},
   "outputs": [
    {
     "data": {
      "text/html": [
       "<div>\n",
       "<style scoped>\n",
       "    .dataframe tbody tr th:only-of-type {\n",
       "        vertical-align: middle;\n",
       "    }\n",
       "\n",
       "    .dataframe tbody tr th {\n",
       "        vertical-align: top;\n",
       "    }\n",
       "\n",
       "    .dataframe thead th {\n",
       "        text-align: right;\n",
       "    }\n",
       "</style>\n",
       "<table border=\"1\" class=\"dataframe\">\n",
       "  <thead>\n",
       "    <tr style=\"text-align: right;\">\n",
       "      <th></th>\n",
       "      <th>about</th>\n",
       "      <th>all</th>\n",
       "      <th>also</th>\n",
       "      <th>done</th>\n",
       "      <th>for</th>\n",
       "      <th>good</th>\n",
       "      <th>have</th>\n",
       "      <th>it</th>\n",
       "      <th>know</th>\n",
       "      <th>of</th>\n",
       "      <th>practice</th>\n",
       "      <th>they</th>\n",
       "      <th>to</th>\n",
       "      <th>us</th>\n",
       "      <th>was</th>\n",
       "    </tr>\n",
       "  </thead>\n",
       "  <tbody>\n",
       "    <tr>\n",
       "      <th>0</th>\n",
       "      <td>0</td>\n",
       "      <td>0</td>\n",
       "      <td>0</td>\n",
       "      <td>0</td>\n",
       "      <td>1</td>\n",
       "      <td>1</td>\n",
       "      <td>0</td>\n",
       "      <td>1</td>\n",
       "      <td>0</td>\n",
       "      <td>0</td>\n",
       "      <td>1</td>\n",
       "      <td>0</td>\n",
       "      <td>0</td>\n",
       "      <td>1</td>\n",
       "      <td>1</td>\n",
       "    </tr>\n",
       "    <tr>\n",
       "      <th>1</th>\n",
       "      <td>1</td>\n",
       "      <td>0</td>\n",
       "      <td>1</td>\n",
       "      <td>0</td>\n",
       "      <td>0</td>\n",
       "      <td>1</td>\n",
       "      <td>0</td>\n",
       "      <td>2</td>\n",
       "      <td>1</td>\n",
       "      <td>0</td>\n",
       "      <td>0</td>\n",
       "      <td>0</td>\n",
       "      <td>1</td>\n",
       "      <td>0</td>\n",
       "      <td>1</td>\n",
       "    </tr>\n",
       "    <tr>\n",
       "      <th>2</th>\n",
       "      <td>0</td>\n",
       "      <td>1</td>\n",
       "      <td>0</td>\n",
       "      <td>1</td>\n",
       "      <td>1</td>\n",
       "      <td>1</td>\n",
       "      <td>1</td>\n",
       "      <td>0</td>\n",
       "      <td>0</td>\n",
       "      <td>1</td>\n",
       "      <td>1</td>\n",
       "      <td>1</td>\n",
       "      <td>0</td>\n",
       "      <td>1</td>\n",
       "      <td>0</td>\n",
       "    </tr>\n",
       "  </tbody>\n",
       "</table>\n",
       "</div>"
      ],
      "text/plain": [
       "   about  all  also  done  for  good  have  it  know  of  practice  they  to  \\\n",
       "0      0    0     0     0    1     1     0   1     0   0         1     0   0   \n",
       "1      1    0     1     0    0     1     0   2     1   0         0     0   1   \n",
       "2      0    1     0     1    1     1     1   0     0   1         1     1   0   \n",
       "\n",
       "   us  was  \n",
       "0   1    1  \n",
       "1   0    1  \n",
       "2   1    0  "
      ]
     },
     "execution_count": 53,
     "metadata": {},
     "output_type": "execute_result"
    }
   ],
   "source": [
    "df             # very importantly we see that the punctuations are deleted."
   ]
  },
  {
   "cell_type": "markdown",
   "id": "a2717293-d06c-47f9-86a3-37da018c8eec",
   "metadata": {},
   "source": [
    "#### N-grams"
   ]
  },
  {
   "cell_type": "code",
   "execution_count": 54,
   "id": "175ec9f9-e75d-4f6d-a8be-9bd8a37b4699",
   "metadata": {},
   "outputs": [],
   "source": [
    "# Create the object\n",
    "cv= CountVectorizer(ngram_range=(1,2))"
   ]
  },
  {
   "cell_type": "code",
   "execution_count": 55,
   "id": "25288057-0ec2-4f46-8663-fed79e472153",
   "metadata": {},
   "outputs": [],
   "source": [
    "# apply the BOW- Ngram method\n",
    "mydata= cv.fit_transform([sentence_1, sentence_2, sentence_3])"
   ]
  },
  {
   "cell_type": "code",
   "execution_count": 56,
   "id": "9d3737d8-ac23-4701-af69-db61500a95fd",
   "metadata": {},
   "outputs": [
    {
     "data": {
      "text/plain": [
       "array(['about', 'about it', 'all', 'all of', 'also', 'also good', 'done',\n",
       "       'done good', 'for', 'for all', 'for us', 'good', 'good practice',\n",
       "       'good to', 'have', 'have done', 'it', 'it was', 'know',\n",
       "       'know about', 'of', 'of us', 'practice', 'practice for', 'they',\n",
       "       'they have', 'to', 'to know', 'us', 'us they', 'was', 'was also',\n",
       "       'was good'], dtype=object)"
      ]
     },
     "execution_count": 56,
     "metadata": {},
     "output_type": "execute_result"
    }
   ],
   "source": [
    "cv.get_feature_names_out()"
   ]
  },
  {
   "cell_type": "code",
   "execution_count": 57,
   "id": "5edd9bd1-1edc-4a13-b683-f388ff385158",
   "metadata": {},
   "outputs": [],
   "source": [
    "# now create my final data frame\n",
    "\n",
    "df = pd.DataFrame(data=mydata.toarray(),\n",
    "                  columns=cv.get_feature_names_out()) "
   ]
  },
  {
   "cell_type": "code",
   "execution_count": 58,
   "id": "185c2ddf-9fd6-4516-99c8-ed1bea7a1300",
   "metadata": {},
   "outputs": [
    {
     "data": {
      "text/html": [
       "<div>\n",
       "<style scoped>\n",
       "    .dataframe tbody tr th:only-of-type {\n",
       "        vertical-align: middle;\n",
       "    }\n",
       "\n",
       "    .dataframe tbody tr th {\n",
       "        vertical-align: top;\n",
       "    }\n",
       "\n",
       "    .dataframe thead th {\n",
       "        text-align: right;\n",
       "    }\n",
       "</style>\n",
       "<table border=\"1\" class=\"dataframe\">\n",
       "  <thead>\n",
       "    <tr style=\"text-align: right;\">\n",
       "      <th></th>\n",
       "      <th>about</th>\n",
       "      <th>about it</th>\n",
       "      <th>all</th>\n",
       "      <th>all of</th>\n",
       "      <th>also</th>\n",
       "      <th>also good</th>\n",
       "      <th>done</th>\n",
       "      <th>done good</th>\n",
       "      <th>for</th>\n",
       "      <th>for all</th>\n",
       "      <th>...</th>\n",
       "      <th>practice for</th>\n",
       "      <th>they</th>\n",
       "      <th>they have</th>\n",
       "      <th>to</th>\n",
       "      <th>to know</th>\n",
       "      <th>us</th>\n",
       "      <th>us they</th>\n",
       "      <th>was</th>\n",
       "      <th>was also</th>\n",
       "      <th>was good</th>\n",
       "    </tr>\n",
       "  </thead>\n",
       "  <tbody>\n",
       "    <tr>\n",
       "      <th>0</th>\n",
       "      <td>0</td>\n",
       "      <td>0</td>\n",
       "      <td>0</td>\n",
       "      <td>0</td>\n",
       "      <td>0</td>\n",
       "      <td>0</td>\n",
       "      <td>0</td>\n",
       "      <td>0</td>\n",
       "      <td>1</td>\n",
       "      <td>0</td>\n",
       "      <td>...</td>\n",
       "      <td>1</td>\n",
       "      <td>0</td>\n",
       "      <td>0</td>\n",
       "      <td>0</td>\n",
       "      <td>0</td>\n",
       "      <td>1</td>\n",
       "      <td>0</td>\n",
       "      <td>1</td>\n",
       "      <td>0</td>\n",
       "      <td>1</td>\n",
       "    </tr>\n",
       "    <tr>\n",
       "      <th>1</th>\n",
       "      <td>1</td>\n",
       "      <td>1</td>\n",
       "      <td>0</td>\n",
       "      <td>0</td>\n",
       "      <td>1</td>\n",
       "      <td>1</td>\n",
       "      <td>0</td>\n",
       "      <td>0</td>\n",
       "      <td>0</td>\n",
       "      <td>0</td>\n",
       "      <td>...</td>\n",
       "      <td>0</td>\n",
       "      <td>0</td>\n",
       "      <td>0</td>\n",
       "      <td>1</td>\n",
       "      <td>1</td>\n",
       "      <td>0</td>\n",
       "      <td>0</td>\n",
       "      <td>1</td>\n",
       "      <td>1</td>\n",
       "      <td>0</td>\n",
       "    </tr>\n",
       "    <tr>\n",
       "      <th>2</th>\n",
       "      <td>0</td>\n",
       "      <td>0</td>\n",
       "      <td>1</td>\n",
       "      <td>1</td>\n",
       "      <td>0</td>\n",
       "      <td>0</td>\n",
       "      <td>1</td>\n",
       "      <td>1</td>\n",
       "      <td>1</td>\n",
       "      <td>1</td>\n",
       "      <td>...</td>\n",
       "      <td>0</td>\n",
       "      <td>1</td>\n",
       "      <td>1</td>\n",
       "      <td>0</td>\n",
       "      <td>0</td>\n",
       "      <td>1</td>\n",
       "      <td>1</td>\n",
       "      <td>0</td>\n",
       "      <td>0</td>\n",
       "      <td>0</td>\n",
       "    </tr>\n",
       "  </tbody>\n",
       "</table>\n",
       "<p>3 rows × 33 columns</p>\n",
       "</div>"
      ],
      "text/plain": [
       "   about  about it  all  all of  also  also good  done  done good  for  \\\n",
       "0      0         0    0       0     0          0     0          0    1   \n",
       "1      1         1    0       0     1          1     0          0    0   \n",
       "2      0         0    1       1     0          0     1          1    1   \n",
       "\n",
       "   for all  ...  practice for  they  they have  to  to know  us  us they  was  \\\n",
       "0        0  ...             1     0          0   0        0   1        0    1   \n",
       "1        0  ...             0     0          0   1        1   0        0    1   \n",
       "2        1  ...             0     1          1   0        0   1        1    0   \n",
       "\n",
       "   was also  was good  \n",
       "0         0         1  \n",
       "1         1         0  \n",
       "2         0         0  \n",
       "\n",
       "[3 rows x 33 columns]"
      ]
     },
     "execution_count": 58,
     "metadata": {},
     "output_type": "execute_result"
    }
   ],
   "source": [
    "df"
   ]
  },
  {
   "cell_type": "markdown",
   "id": "35fef2c6-aede-4114-a7e0-d12bd028ea3d",
   "metadata": {},
   "source": [
    "# TF*IDF Vectorizer"
   ]
  },
  {
   "cell_type": "code",
   "execution_count": 59,
   "id": "9726956d-f776-42ba-a190-ddc0c5c7746c",
   "metadata": {},
   "outputs": [],
   "source": [
    "# import the class\n",
    "from sklearn.feature_extraction.text import TfidfVectorizer"
   ]
  },
  {
   "cell_type": "code",
   "execution_count": 60,
   "id": "c81f35da-c046-44fe-ac82-93f0a8fee567",
   "metadata": {},
   "outputs": [],
   "source": [
    "# create the object\n",
    "tfidf = TfidfVectorizer()"
   ]
  },
  {
   "cell_type": "code",
   "execution_count": 61,
   "id": "f5f4939e-d372-4184-8237-8e9c7ef9ce1e",
   "metadata": {},
   "outputs": [],
   "source": [
    "# apply the algorithm\n",
    "new_data = tfidf.fit_transform([sentence_1, sentence_2, sentence_3])"
   ]
  },
  {
   "cell_type": "code",
   "execution_count": 62,
   "id": "36176407-7472-4b98-a1c4-cdb1db19a25b",
   "metadata": {},
   "outputs": [
    {
     "data": {
      "text/plain": [
       "array([[0.        , 0.        , 0.        , 0.        , 0.42246056,\n",
       "        0.32807831, 0.        , 0.42246056, 0.        , 0.        ,\n",
       "        0.42246056, 0.        , 0.        , 0.42246056, 0.42246056],\n",
       "       [0.37162591, 0.        , 0.37162591, 0.        , 0.        ,\n",
       "        0.21948825, 0.        , 0.56526217, 0.37162591, 0.        ,\n",
       "        0.        , 0.        , 0.37162591, 0.        , 0.28263108],\n",
       "       [0.        , 0.37571621, 0.        , 0.37571621, 0.28574186,\n",
       "        0.22190405, 0.37571621, 0.        , 0.        , 0.37571621,\n",
       "        0.28574186, 0.37571621, 0.        , 0.28574186, 0.        ]])"
      ]
     },
     "execution_count": 62,
     "metadata": {},
     "output_type": "execute_result"
    }
   ],
   "source": [
    "new_data.toarray()"
   ]
  },
  {
   "cell_type": "code",
   "execution_count": 64,
   "id": "8ef185ef-e628-4bd8-88fe-a3ec3b542579",
   "metadata": {},
   "outputs": [
    {
     "data": {
      "text/plain": [
       "array(['about', 'all', 'also', 'done', 'for', 'good', 'have', 'it',\n",
       "       'know', 'of', 'practice', 'they', 'to', 'us', 'was'], dtype=object)"
      ]
     },
     "execution_count": 64,
     "metadata": {},
     "output_type": "execute_result"
    }
   ],
   "source": [
    "tfidf.get_feature_names_out()"
   ]
  },
  {
   "cell_type": "code",
   "execution_count": 66,
   "id": "370d0216-5bfe-441c-bb29-a73e7cbb640a",
   "metadata": {},
   "outputs": [],
   "source": [
    "df = pd.DataFrame(data=new_data.toarray(),\n",
    "                  columns=tfidf.get_feature_names_out()) "
   ]
  },
  {
   "cell_type": "code",
   "execution_count": 67,
   "id": "6fde7108-3b0d-4b7c-9c59-d5d04f05d765",
   "metadata": {},
   "outputs": [
    {
     "data": {
      "text/html": [
       "<div>\n",
       "<style scoped>\n",
       "    .dataframe tbody tr th:only-of-type {\n",
       "        vertical-align: middle;\n",
       "    }\n",
       "\n",
       "    .dataframe tbody tr th {\n",
       "        vertical-align: top;\n",
       "    }\n",
       "\n",
       "    .dataframe thead th {\n",
       "        text-align: right;\n",
       "    }\n",
       "</style>\n",
       "<table border=\"1\" class=\"dataframe\">\n",
       "  <thead>\n",
       "    <tr style=\"text-align: right;\">\n",
       "      <th></th>\n",
       "      <th>about</th>\n",
       "      <th>all</th>\n",
       "      <th>also</th>\n",
       "      <th>done</th>\n",
       "      <th>for</th>\n",
       "      <th>good</th>\n",
       "      <th>have</th>\n",
       "      <th>it</th>\n",
       "      <th>know</th>\n",
       "      <th>of</th>\n",
       "      <th>practice</th>\n",
       "      <th>they</th>\n",
       "      <th>to</th>\n",
       "      <th>us</th>\n",
       "      <th>was</th>\n",
       "    </tr>\n",
       "  </thead>\n",
       "  <tbody>\n",
       "    <tr>\n",
       "      <th>0</th>\n",
       "      <td>0.000000</td>\n",
       "      <td>0.000000</td>\n",
       "      <td>0.000000</td>\n",
       "      <td>0.000000</td>\n",
       "      <td>0.422461</td>\n",
       "      <td>0.328078</td>\n",
       "      <td>0.000000</td>\n",
       "      <td>0.422461</td>\n",
       "      <td>0.000000</td>\n",
       "      <td>0.000000</td>\n",
       "      <td>0.422461</td>\n",
       "      <td>0.000000</td>\n",
       "      <td>0.000000</td>\n",
       "      <td>0.422461</td>\n",
       "      <td>0.422461</td>\n",
       "    </tr>\n",
       "    <tr>\n",
       "      <th>1</th>\n",
       "      <td>0.371626</td>\n",
       "      <td>0.000000</td>\n",
       "      <td>0.371626</td>\n",
       "      <td>0.000000</td>\n",
       "      <td>0.000000</td>\n",
       "      <td>0.219488</td>\n",
       "      <td>0.000000</td>\n",
       "      <td>0.565262</td>\n",
       "      <td>0.371626</td>\n",
       "      <td>0.000000</td>\n",
       "      <td>0.000000</td>\n",
       "      <td>0.000000</td>\n",
       "      <td>0.371626</td>\n",
       "      <td>0.000000</td>\n",
       "      <td>0.282631</td>\n",
       "    </tr>\n",
       "    <tr>\n",
       "      <th>2</th>\n",
       "      <td>0.000000</td>\n",
       "      <td>0.375716</td>\n",
       "      <td>0.000000</td>\n",
       "      <td>0.375716</td>\n",
       "      <td>0.285742</td>\n",
       "      <td>0.221904</td>\n",
       "      <td>0.375716</td>\n",
       "      <td>0.000000</td>\n",
       "      <td>0.000000</td>\n",
       "      <td>0.375716</td>\n",
       "      <td>0.285742</td>\n",
       "      <td>0.375716</td>\n",
       "      <td>0.000000</td>\n",
       "      <td>0.285742</td>\n",
       "      <td>0.000000</td>\n",
       "    </tr>\n",
       "  </tbody>\n",
       "</table>\n",
       "</div>"
      ],
      "text/plain": [
       "      about       all      also      done       for      good      have  \\\n",
       "0  0.000000  0.000000  0.000000  0.000000  0.422461  0.328078  0.000000   \n",
       "1  0.371626  0.000000  0.371626  0.000000  0.000000  0.219488  0.000000   \n",
       "2  0.000000  0.375716  0.000000  0.375716  0.285742  0.221904  0.375716   \n",
       "\n",
       "         it      know        of  practice      they        to        us  \\\n",
       "0  0.422461  0.000000  0.000000  0.422461  0.000000  0.000000  0.422461   \n",
       "1  0.565262  0.371626  0.000000  0.000000  0.000000  0.371626  0.000000   \n",
       "2  0.000000  0.000000  0.375716  0.285742  0.375716  0.000000  0.285742   \n",
       "\n",
       "        was  \n",
       "0  0.422461  \n",
       "1  0.282631  \n",
       "2  0.000000  "
      ]
     },
     "execution_count": 67,
     "metadata": {},
     "output_type": "execute_result"
    }
   ],
   "source": [
    "df"
   ]
  }
 ],
 "metadata": {
  "kernelspec": {
   "display_name": "Python 3 (ipykernel)",
   "language": "python",
   "name": "python3"
  },
  "language_info": {
   "codemirror_mode": {
    "name": "ipython",
    "version": 3
   },
   "file_extension": ".py",
   "mimetype": "text/x-python",
   "name": "python",
   "nbconvert_exporter": "python",
   "pygments_lexer": "ipython3",
   "version": "3.11.7"
  }
 },
 "nbformat": 4,
 "nbformat_minor": 5
}
