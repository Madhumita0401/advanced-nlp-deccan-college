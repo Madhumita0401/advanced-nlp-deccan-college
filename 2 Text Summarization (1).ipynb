{
 "cells": [
  {
   "cell_type": "markdown",
   "id": "77a25c57-cee6-4187-a6d1-13d3a86380f5",
   "metadata": {},
   "source": [
    "#### Madhumita Pal\n",
    "#### Enrollment id- 0004"
   ]
  },
  {
   "cell_type": "markdown",
   "id": "5d2f8636-75ac-4bfc-95f2-37deb5a6efb1",
   "metadata": {},
   "source": [
    "##### Install the libraries"
   ]
  },
  {
   "cell_type": "markdown",
   "id": "6e686191-c296-47c0-80fa-9b93ffad8cc7",
   "metadata": {},
   "source": [
    "sumy -> Extractive Summarization<br>\n",
    "transformer -> Abstractive Summarization"
   ]
  },
  {
   "cell_type": "code",
   "execution_count": 9,
   "id": "c49f54c7-b1c6-4648-9b68-b53d794bc710",
   "metadata": {},
   "outputs": [
    {
     "name": "stdout",
     "output_type": "stream",
     "text": [
      "Requirement already satisfied: sumy in c:\\users\\user\\new folder\\cl\\anaconda\\lib\\site-packages (0.11.0)Note: you may need to restart the kernel to use updated packages.\n",
      "\n",
      "Requirement already satisfied: transformers in c:\\users\\user\\new folder\\cl\\anaconda\\lib\\site-packages (4.40.2)\n",
      "Requirement already satisfied: docopt<0.7,>=0.6.1 in c:\\users\\user\\new folder\\cl\\anaconda\\lib\\site-packages (from sumy) (0.6.2)\n",
      "Requirement already satisfied: breadability>=0.1.20 in c:\\users\\user\\new folder\\cl\\anaconda\\lib\\site-packages (from sumy) (0.1.20)\n",
      "Requirement already satisfied: requests>=2.7.0 in c:\\users\\user\\new folder\\cl\\anaconda\\lib\\site-packages (from sumy) (2.31.0)\n",
      "Requirement already satisfied: pycountry>=18.2.23 in c:\\users\\user\\new folder\\cl\\anaconda\\lib\\site-packages (from sumy) (23.12.11)\n",
      "Requirement already satisfied: nltk>=3.0.2 in c:\\users\\user\\new folder\\cl\\anaconda\\lib\\site-packages (from sumy) (3.8.1)\n",
      "Requirement already satisfied: filelock in c:\\users\\user\\new folder\\cl\\anaconda\\lib\\site-packages (from transformers) (3.13.1)\n",
      "Requirement already satisfied: huggingface-hub<1.0,>=0.19.3 in c:\\users\\user\\new folder\\cl\\anaconda\\lib\\site-packages (from transformers) (0.23.0)\n",
      "Requirement already satisfied: numpy>=1.17 in c:\\users\\user\\new folder\\cl\\anaconda\\lib\\site-packages (from transformers) (1.26.4)\n",
      "Requirement already satisfied: packaging>=20.0 in c:\\users\\user\\new folder\\cl\\anaconda\\lib\\site-packages (from transformers) (23.1)\n",
      "Requirement already satisfied: pyyaml>=5.1 in c:\\users\\user\\new folder\\cl\\anaconda\\lib\\site-packages (from transformers) (6.0.1)\n",
      "Requirement already satisfied: regex!=2019.12.17 in c:\\users\\user\\new folder\\cl\\anaconda\\lib\\site-packages (from transformers) (2023.10.3)\n",
      "Requirement already satisfied: tokenizers<0.20,>=0.19 in c:\\users\\user\\new folder\\cl\\anaconda\\lib\\site-packages (from transformers) (0.19.1)\n",
      "Requirement already satisfied: safetensors>=0.4.1 in c:\\users\\user\\new folder\\cl\\anaconda\\lib\\site-packages (from transformers) (0.4.3)\n",
      "Requirement already satisfied: tqdm>=4.27 in c:\\users\\user\\new folder\\cl\\anaconda\\lib\\site-packages (from transformers) (4.65.0)\n",
      "Requirement already satisfied: chardet in c:\\users\\user\\new folder\\cl\\anaconda\\lib\\site-packages (from breadability>=0.1.20->sumy) (4.0.0)\n",
      "Requirement already satisfied: lxml>=2.0 in c:\\users\\user\\new folder\\cl\\anaconda\\lib\\site-packages (from breadability>=0.1.20->sumy) (4.9.3)\n",
      "Requirement already satisfied: fsspec>=2023.5.0 in c:\\users\\user\\new folder\\cl\\anaconda\\lib\\site-packages (from huggingface-hub<1.0,>=0.19.3->transformers) (2023.10.0)\n",
      "Requirement already satisfied: typing-extensions>=3.7.4.3 in c:\\users\\user\\new folder\\cl\\anaconda\\lib\\site-packages (from huggingface-hub<1.0,>=0.19.3->transformers) (4.9.0)\n",
      "Requirement already satisfied: click in c:\\users\\user\\new folder\\cl\\anaconda\\lib\\site-packages (from nltk>=3.0.2->sumy) (8.1.7)\n",
      "Requirement already satisfied: joblib in c:\\users\\user\\new folder\\cl\\anaconda\\lib\\site-packages (from nltk>=3.0.2->sumy) (1.2.0)\n",
      "Requirement already satisfied: charset-normalizer<4,>=2 in c:\\users\\user\\new folder\\cl\\anaconda\\lib\\site-packages (from requests>=2.7.0->sumy) (2.0.4)\n",
      "Requirement already satisfied: idna<4,>=2.5 in c:\\users\\user\\new folder\\cl\\anaconda\\lib\\site-packages (from requests>=2.7.0->sumy) (3.4)\n",
      "Requirement already satisfied: urllib3<3,>=1.21.1 in c:\\users\\user\\new folder\\cl\\anaconda\\lib\\site-packages (from requests>=2.7.0->sumy) (2.0.7)\n",
      "Requirement already satisfied: certifi>=2017.4.17 in c:\\users\\user\\new folder\\cl\\anaconda\\lib\\site-packages (from requests>=2.7.0->sumy) (2024.2.2)\n",
      "Requirement already satisfied: colorama in c:\\users\\user\\new folder\\cl\\anaconda\\lib\\site-packages (from tqdm>=4.27->transformers) (0.4.6)\n"
     ]
    }
   ],
   "source": [
    "pip install sumy transformers"
   ]
  },
  {
   "cell_type": "code",
   "execution_count": 1,
   "id": "7707ce46-3f8c-4cf2-b49f-8b27f1d65cf1",
   "metadata": {},
   "outputs": [],
   "source": [
    "# import the class\n",
    "from sumy.summarizers.text_rank import TextRankSummarizer"
   ]
  },
  {
   "cell_type": "code",
   "execution_count": 2,
   "id": "1721fabf-4bee-40be-8c7f-3f0fcea096cd",
   "metadata": {},
   "outputs": [],
   "source": [
    "# import parser and tokenizers\n",
    "from sumy.parsers.plaintext import PlaintextParser\n",
    "from sumy.nlp.tokenizers import Tokenizer"
   ]
  },
  {
   "cell_type": "code",
   "execution_count": 3,
   "id": "9480de49-dd6b-46be-9d1f-293bbf24faef",
   "metadata": {},
   "outputs": [
    {
     "name": "stderr",
     "output_type": "stream",
     "text": [
      "[nltk_data] Downloading package punkt to\n",
      "[nltk_data]     C:\\Users\\user\\AppData\\Roaming\\nltk_data...\n",
      "[nltk_data]   Package punkt is already up-to-date!\n"
     ]
    },
    {
     "data": {
      "text/plain": [
       "True"
      ]
     },
     "execution_count": 3,
     "metadata": {},
     "output_type": "execute_result"
    }
   ],
   "source": [
    "import nltk\n",
    "nltk.download('punkt')           # punkt is required for tokenizers"
   ]
  },
  {
   "cell_type": "code",
   "execution_count": 5,
   "id": "5cb06707-1793-4064-9e19-0c718f221003",
   "metadata": {},
   "outputs": [],
   "source": [
    "text = '''The Bengal tiger is a population of the Panthera tigris tigris subspecies and the nominate tiger subspecies.[1] It ranks among the biggest wild cats alive today.[2][3] It is considered to belong to the world's charismatic megafauna.[4]\n",
    "\n",
    "The tiger is estimated to have been present in the Indian subcontinent since the Late Pleistocene, for about 12,000 to 16,500 years.[5][6][7] Today, it is threatened by poaching, loss and fragmentation of habitat, and was estimated at comprising fewer than 2,500 wild individuals by 2011. None of the Tiger Conservation Landscapes within its range is considered large enough to support an effective population of more than 250 adult individuals.[8]\n",
    "\n",
    "The Bengal tiger's historical range covered the Indus River valley until the early 19th century, almost all of India, Pakistan, southern Nepal, Bangladesh, Bhutan, and southwestern China. Today, it inhabits India, Bangladesh, Nepal, Bhutan, and southwestern China.[6] India's tiger population was estimated at 2,603–3,346 individuals by 2018.[9] Around 300–500 individuals are estimated in Bangladesh by 2015,[8] 355 in Nepal by 2022,[10] and 90 individuals in Bhutan by 2015.[11]\n",
    "\n",
    "\n",
    "Felis tigris was the scientific name used by Carl Linnaeus in 1758 for the tiger.[12] It was subordinated to the genus Panthera by Reginald Innes Pocock in 1929. Bengal is the traditional type locality of the species and the nominate subspecies Panthera tigris tigris.[13]\n",
    "\n",
    "The validity of several tiger subspecies in continental Asia was questioned in 1999. Morphologically, tigers from different regions vary little, and gene flow between populations in those regions is considered to have been possible during the Pleistocene. Therefore, it was proposed to recognise only two subspecies as valid, namely P. t. tigris in mainland Asia, and P. t. sondaica in the Greater Sunda Islands and possibly in Sundaland.[14] The nominate subspecies P. t. tigris constitutes two clades: the northern clade comprises the Siberian and Caspian tiger populations, and the southern clade all remaining continental tiger populations.[15] The extinct and living tiger populations in continental Asia have been subsumed to P. t. tigris since the revision of felid taxonomy in 2017.[1]\n",
    "\n",
    "Results of a genetic analysis of 32 tiger samples indicate that the Bengal tiger samples grouped into a different clade than the Siberian tiger samples.[16]\n",
    "\n",
    "Genetic ancestry\n",
    "The Bengal tiger is defined by three distinct mitochondrial nucleotide sites and 12 unique microsatellite alleles. The pattern of genetic variation in the Bengal tiger corresponds to the premise that it arrived in India approximately 12,000 years ago.[17] This is consistent with the lack of tiger fossils from the Indian subcontinent prior to the late Pleistocene, and the absence of tigers from Sri Lanka, which was separated from the subcontinent by rising sea levels in the early Holocene.[6]'''"
   ]
  },
  {
   "cell_type": "code",
   "execution_count": 6,
   "id": "94af6476-986b-436a-9f98-7320a568959e",
   "metadata": {},
   "outputs": [
    {
     "name": "stdout",
     "output_type": "stream",
     "text": [
      "The Bengal tiger is a population of the Panthera tigris tigris subspecies and the nominate tiger subspecies.[1] It ranks among the biggest wild cats alive today.[2][3] It is considered to belong to the world's charismatic megafauna.[4]\n",
      "\n",
      "The tiger is estimated to have been present in the Indian subcontinent since the Late Pleistocene, for about 12,000 to 16,500 years.[5][6][7] Today, it is threatened by poaching, loss and fragmentation of habitat, and was estimated at comprising fewer than 2,500 wild individuals by 2011. None of the Tiger Conservation Landscapes within its range is considered large enough to support an effective population of more than 250 adult individuals.[8]\n",
      "\n",
      "The Bengal tiger's historical range covered the Indus River valley until the early 19th century, almost all of India, Pakistan, southern Nepal, Bangladesh, Bhutan, and southwestern China. Today, it inhabits India, Bangladesh, Nepal, Bhutan, and southwestern China.[6] India's tiger population was estimated at 2,603–3,346 individuals by 2018.[9] Around 300–500 individuals are estimated in Bangladesh by 2015,[8] 355 in Nepal by 2022,[10] and 90 individuals in Bhutan by 2015.[11]\n",
      "\n",
      "\n",
      "Felis tigris was the scientific name used by Carl Linnaeus in 1758 for the tiger.[12] It was subordinated to the genus Panthera by Reginald Innes Pocock in 1929. Bengal is the traditional type locality of the species and the nominate subspecies Panthera tigris tigris.[13]\n",
      "\n",
      "The validity of several tiger subspecies in continental Asia was questioned in 1999. Morphologically, tigers from different regions vary little, and gene flow between populations in those regions is considered to have been possible during the Pleistocene. Therefore, it was proposed to recognise only two subspecies as valid, namely P. t. tigris in mainland Asia, and P. t. sondaica in the Greater Sunda Islands and possibly in Sundaland.[14] The nominate subspecies P. t. tigris constitutes two clades: the northern clade comprises the Siberian and Caspian tiger populations, and the southern clade all remaining continental tiger populations.[15] The extinct and living tiger populations in continental Asia have been subsumed to P. t. tigris since the revision of felid taxonomy in 2017.[1]\n",
      "\n",
      "Results of a genetic analysis of 32 tiger samples indicate that the Bengal tiger samples grouped into a different clade than the Siberian tiger samples.[16]\n",
      "\n",
      "Genetic ancestry\n",
      "The Bengal tiger is defined by three distinct mitochondrial nucleotide sites and 12 unique microsatellite alleles. The pattern of genetic variation in the Bengal tiger corresponds to the premise that it arrived in India approximately 12,000 years ago.[17] This is consistent with the lack of tiger fossils from the Indian subcontinent prior to the late Pleistocene, and the absence of tigers from Sri Lanka, which was separated from the subcontinent by rising sea levels in the early Holocene.[6]\n"
     ]
    }
   ],
   "source": [
    "print(text)"
   ]
  },
  {
   "cell_type": "code",
   "execution_count": 7,
   "id": "2b1af955-7ef9-4f26-81d3-e68e4c9f7520",
   "metadata": {},
   "outputs": [
    {
     "name": "stdout",
     "output_type": "stream",
     "text": [
      "23\n"
     ]
    }
   ],
   "source": [
    "from nltk.tokenize import sent_tokenize\n",
    "sents = sent_tokenize(text)\n",
    "print(len(sents))"
   ]
  },
  {
   "cell_type": "code",
   "execution_count": 9,
   "id": "a51dcd06-4540-4248-8d2e-ca0de08a0f85",
   "metadata": {},
   "outputs": [],
   "source": [
    "# Initialize the parser\n",
    "my_parser = PlaintextParser.from_string(text,Tokenizer('english'))"
   ]
  },
  {
   "cell_type": "code",
   "execution_count": 14,
   "id": "d5039a0b-d2e5-4db4-a749-cf1f8d9776f6",
   "metadata": {},
   "outputs": [],
   "source": [
    "# Create the object of summarizer\n",
    "tex_rank_summarizer = TextRankSummarizer()"
   ]
  },
  {
   "cell_type": "code",
   "execution_count": 16,
   "id": "3a3c9606-2baa-485c-85f6-00adcbb545e8",
   "metadata": {},
   "outputs": [],
   "source": [
    "# Extract top 3 sentences\n",
    "summary = tex_rank_summarizer(my_parser.document, sentences_count=3)"
   ]
  },
  {
   "cell_type": "code",
   "execution_count": 17,
   "id": "f6dd08e3-2fe2-4a59-a5ee-0868d74924b6",
   "metadata": {},
   "outputs": [
    {
     "data": {
      "text/plain": [
       "3"
      ]
     },
     "execution_count": 17,
     "metadata": {},
     "output_type": "execute_result"
    }
   ],
   "source": [
    "len(summary)"
   ]
  },
  {
   "cell_type": "code",
   "execution_count": 18,
   "id": "7d7204e2-0c22-41aa-86e6-e4a505934cae",
   "metadata": {},
   "outputs": [
    {
     "data": {
      "text/plain": [
       "(<Sentence: The Bengal tiger is a population of the Panthera tigris tigris subspecies and the nominate tiger subspecies.>,\n",
       " <Sentence: [14] The nominate subspecies P. t. tigris constitutes two clades: the northern clade comprises the Siberian and Caspian tiger populations, and the southern clade all remaining continental tiger populations.>,\n",
       " <Sentence: [17] This is consistent with the lack of tiger fossils from the Indian subcontinent prior to the late Pleistocene, and the absence of tigers from Sri Lanka, which was separated from the subcontinent by rising sea levels in the early Holocene.>)"
      ]
     },
     "execution_count": 18,
     "metadata": {},
     "output_type": "execute_result"
    }
   ],
   "source": [
    "summary"
   ]
  },
  {
   "cell_type": "code",
   "execution_count": 19,
   "id": "0725ebc1-0438-4f9b-b821-c4f7d8014308",
   "metadata": {},
   "outputs": [
    {
     "data": {
      "text/plain": [
       "(<Sentence: The Bengal tiger is a population of the Panthera tigris tigris subspecies and the nominate tiger subspecies.>,\n",
       " <Sentence: The tiger is estimated to have been present in the Indian subcontinent since the Late Pleistocene, for about 12,000 to 16,500 years.>,\n",
       " <Sentence: [14] The nominate subspecies P. t. tigris constitutes two clades: the northern clade comprises the Siberian and Caspian tiger populations, and the southern clade all remaining continental tiger populations.>,\n",
       " <Sentence: The pattern of genetic variation in the Bengal tiger corresponds to the premise that it arrived in India approximately 12,000 years ago.>,\n",
       " <Sentence: [17] This is consistent with the lack of tiger fossils from the Indian subcontinent prior to the late Pleistocene, and the absence of tigers from Sri Lanka, which was separated from the subcontinent by rising sea levels in the early Holocene.>)"
      ]
     },
     "execution_count": 19,
     "metadata": {},
     "output_type": "execute_result"
    }
   ],
   "source": [
    "# Extract top 5 sentences\n",
    "\n",
    "summary = tex_rank_summarizer(my_parser.document, sentences_count = 5)\n",
    "summary"
   ]
  },
  {
   "cell_type": "code",
   "execution_count": 20,
   "id": "cde2e44b-d04d-4157-b307-417997e5733c",
   "metadata": {},
   "outputs": [],
   "source": [
    "# import the class\n",
    "from sumy.summarizers.lex_rank import LexRankSummarizer"
   ]
  },
  {
   "cell_type": "code",
   "execution_count": 21,
   "id": "9bfde5b3-2d4c-4324-b82b-ef30e773c2c5",
   "metadata": {},
   "outputs": [],
   "source": [
    "# Create the object of summarizer\n",
    "lex_rank_summarizer = LexRankSummarizer()"
   ]
  },
  {
   "cell_type": "code",
   "execution_count": 22,
   "id": "3dc81177-65f9-45b8-864d-5f1f33a976b1",
   "metadata": {},
   "outputs": [],
   "source": [
    "# Extract top 3 sentences\n",
    "summary = lex_rank_summarizer(my_parser.document, sentences_count=3)"
   ]
  },
  {
   "cell_type": "code",
   "execution_count": 25,
   "id": "d0c45f96-f809-4f53-bbc2-1b6104381949",
   "metadata": {},
   "outputs": [
    {
     "name": "stdout",
     "output_type": "stream",
     "text": [
      "The Bengal tiger is a population of the Panthera tigris tigris subspecies and the nominate tiger subspecies. \n",
      "\n",
      "The tiger is estimated to have been present in the Indian subcontinent since the Late Pleistocene, for about 12,000 to 16,500 years. \n",
      "\n",
      "[9] Around 300–500 individuals are estimated in Bangladesh by 2015,[8] 355 in Nepal by 2022,[10] and 90 individuals in Bhutan by 2015. \n",
      "\n"
     ]
    }
   ],
   "source": [
    "for x in summary:\n",
    "    print(x, '\\n')               # We iterated through for loop"
   ]
  },
  {
   "cell_type": "code",
   "execution_count": 26,
   "id": "089def08-97ae-42c1-88a6-779654868b95",
   "metadata": {},
   "outputs": [],
   "source": [
    "# import the class\n",
    "from sumy.summarizers.lsa import LsaSummarizer"
   ]
  },
  {
   "cell_type": "code",
   "execution_count": 27,
   "id": "3f35d522-cef7-4a07-90f3-5f5a8def4410",
   "metadata": {},
   "outputs": [],
   "source": [
    "# Create the object of summarizer\n",
    "lsa_summarizer = LsaSummarizer()"
   ]
  },
  {
   "cell_type": "code",
   "execution_count": 28,
   "id": "04758038-6908-498e-8071-6ad0e699e184",
   "metadata": {},
   "outputs": [],
   "source": [
    "# Extract top 3 sentences\n",
    "summary = lsa_summarizer(my_parser.document, sentences_count=3)"
   ]
  },
  {
   "cell_type": "code",
   "execution_count": 29,
   "id": "e6cc7380-2df5-4283-ad90-86f2f891b7b8",
   "metadata": {},
   "outputs": [
    {
     "name": "stdout",
     "output_type": "stream",
     "text": [
      "Today, it inhabits India, Bangladesh, Nepal, Bhutan, and southwestern China. \n",
      "\n",
      "[12] It was subordinated to the genus Panthera by Reginald Innes Pocock in 1929. \n",
      "\n",
      "Genetic ancestry The Bengal tiger is defined by three distinct mitochondrial nucleotide sites and 12 unique microsatellite alleles. \n",
      "\n"
     ]
    }
   ],
   "source": [
    "for x in summary:\n",
    "    print(x, '\\n')               # We iterated through for loop"
   ]
  },
  {
   "cell_type": "code",
   "execution_count": 2,
   "id": "b6c7085b-2e62-44ea-b96f-bba14cf932f0",
   "metadata": {},
   "outputs": [],
   "source": [
    "itext = '''বাঘ (Panthera tigris) বড় বিড়াল জাতের অন্তর্ভুক্ত একটি স্তন্যপায়ী প্রাণী। সিংহ, চিতাবাঘ ও জাগুয়ারের সঙ্গে প্যানথেরা গণের চারটি বিশালাকার সদস্যের মধ্যে এটি সর্ব বৃহৎ ও শক্তিশালী প্রাণী। এটি ফেলিডি পরিবারের অন্তর্ভুক্ত সবচেয়ে বড় প্রাণী। বাঘ ভারত ও বাংলাদেশ সহ মোট ৬ টি দেশের জাতীয় পশু। পূর্ব ও দক্ষিণ এশিয়ার অনেক এলাকায় একে দেখা যায়। 'অ্যানিম্যাল প্ল্যানেট' চ্যানেলের সমীক্ষা অনুযায়ী বাঘ বিশ্বের সবচেয়ে জনপ্রিয় প্রাণী।[৩]\n",
    "\n",
    "\n",
    "সংস্কৃত শব্দ ব্যাঘ্র থেকে আসে বাঘ। বাংলা ভাষায় প্যানথেরা টাইগ্রিসই বাঘ নামে পরিচিত হলেও সিংহ এবং বাঘ দুটোকেই বুঝানোর জন্য যেভাবে ফার্সি ভাষায় শীর বা শের শব্দটি ব্যবহার হয়, তেমনি বাঘ শব্দটির দ্বারা মূলত বড় শিকারী প্রাণীকে বুঝানো হতো যেমন চিতাবাঘ, নেকড়ে বাঘ।\n",
    "\n",
    "বাঘরা জলে সাচ্ছন্দবোধ করে এবং প্রায়শই তাদের স্নান করতে দেখা যায়।\n",
    "বাঘেরা জলে থাকতে খুব পছন্দ করে। এরা শুধু শরীর ঠান্ডা রাখতেই জলে নামে না বরং অনেক সময় জলে এরা শিকারও করে!\n",
    "\n",
    "\n",
    "\n",
    "বাঘ সাধারণত একা একা থাকে ও শিকার করে। তবে বাচ্চারা ২ বছর বয়স পর্যন্ত মায়ের সাথে থাকে।\n",
    "\n",
    "\n",
    "বাঘ সহসা বাধ্য না হলে খাঁচার মতো আবদ্ধ জায়গায় ঢুকতে সাহস করে না। এমনকি মানুষখেকো হলেও না। তবে আক্রান্ত বাঘ খুব মারমুখী হয়ে থাকে।[৪] বিভিন্ন নিরামিষাশী, বুনো বা গৃহপালিত প্রাণী (চিত্রা হরিণ, সম্বর হরিণ, মহিষ, গৌড়, বুনো শূকর, বানর ইত্যাদি, সুযোগ পেলে গরু- ছাগল,কুকুর ইত্যাদি) বাঘের খাদ্য। তবে খিদে পেলে বাঘ চিতাবাঘ,কুমির, ভাল্লুক বা অজগরকেও ছাড়েনা। এমনকি হাতি ও গণ্ডারের বাচ্চার উপরো বাঘ হামলা করে। কিছু সময়ে বাঘ নরখাদক হয়ে যায়। বাঘ ঘন ঝোপে লুকিয়ে আচমকা হামলা করে শিকার করে। মুলত জলাশয়ের কাছে বাঘ লুকিয়ে থাকে।\n",
    "\n",
    "বাঘ রাতেই বেশি শিকার করে। বড় প্রাণী শিকারের সময় বাঘ শ্বাসনালি কামড়ে ধরে এবং সম্মুখপেশীর সাহায্যে শিকারকে আঁকড়ে ধরে মাটিতে আছড়ে ফেলে। শিকার দমবন্ধ হয়ে না মরা পর্যন্ত বাঘ গলা আঁকড়ে ধরেই থাকে।'''"
   ]
  },
  {
   "cell_type": "code",
   "execution_count": 3,
   "id": "2eddf247-a402-40ba-9878-74ae5b9186db",
   "metadata": {},
   "outputs": [
    {
     "name": "stdout",
     "output_type": "stream",
     "text": [
      "বাঘ (Panthera tigris) বড় বিড়াল জাতের অন্তর্ভুক্ত একটি স্তন্যপায়ী প্রাণী। সিংহ, চিতাবাঘ ও জাগুয়ারের সঙ্গে প্যানথেরা গণের চারটি বিশালাকার সদস্যের মধ্যে এটি সর্ব বৃহৎ ও শক্তিশালী প্রাণী। এটি ফেলিডি পরিবারের অন্তর্ভুক্ত সবচেয়ে বড় প্রাণী। বাঘ ভারত ও বাংলাদেশ সহ মোট ৬ টি দেশের জাতীয় পশু। পূর্ব ও দক্ষিণ এশিয়ার অনেক এলাকায় একে দেখা যায়। 'অ্যানিম্যাল প্ল্যানেট' চ্যানেলের সমীক্ষা অনুযায়ী বাঘ বিশ্বের সবচেয়ে জনপ্রিয় প্রাণী।[৩]\n",
      "\n",
      "\n",
      "সংস্কৃত শব্দ ব্যাঘ্র থেকে আসে বাঘ। বাংলা ভাষায় প্যানথেরা টাইগ্রিসই বাঘ নামে পরিচিত হলেও সিংহ এবং বাঘ দুটোকেই বুঝানোর জন্য যেভাবে ফার্সি ভাষায় শীর বা শের শব্দটি ব্যবহার হয়, তেমনি বাঘ শব্দটির দ্বারা মূলত বড় শিকারী প্রাণীকে বুঝানো হতো যেমন চিতাবাঘ, নেকড়ে বাঘ।\n",
      "\n",
      "বাঘরা জলে সাচ্ছন্দবোধ করে এবং প্রায়শই তাদের স্নান করতে দেখা যায়।\n",
      "বাঘেরা জলে থাকতে খুব পছন্দ করে। এরা শুধু শরীর ঠান্ডা রাখতেই জলে নামে না বরং অনেক সময় জলে এরা শিকারও করে!\n",
      "\n",
      "\n",
      "\n",
      "বাঘ সাধারণত একা একা থাকে ও শিকার করে। তবে বাচ্চারা ২ বছর বয়স পর্যন্ত মায়ের সাথে থাকে।\n",
      "\n",
      "\n",
      "বাঘ সহসা বাধ্য না হলে খাঁচার মতো আবদ্ধ জায়গায় ঢুকতে সাহস করে না। এমনকি মানুষখেকো হলেও না। তবে আক্রান্ত বাঘ খুব মারমুখী হয়ে থাকে।[৪] বিভিন্ন নিরামিষাশী, বুনো বা গৃহপালিত প্রাণী (চিত্রা হরিণ, সম্বর হরিণ, মহিষ, গৌড়, বুনো শূকর, বানর ইত্যাদি, সুযোগ পেলে গরু- ছাগল,কুকুর ইত্যাদি) বাঘের খাদ্য। তবে খিদে পেলে বাঘ চিতাবাঘ,কুমির, ভাল্লুক বা অজগরকেও ছাড়েনা। এমনকি হাতি ও গণ্ডারের বাচ্চার উপরো বাঘ হামলা করে। কিছু সময়ে বাঘ নরখাদক হয়ে যায়। বাঘ ঘন ঝোপে লুকিয়ে আচমকা হামলা করে শিকার করে। মুলত জলাশয়ের কাছে বাঘ লুকিয়ে থাকে।\n",
      "\n",
      "বাঘ রাতেই বেশি শিকার করে। বড় প্রাণী শিকারের সময় বাঘ শ্বাসনালি কামড়ে ধরে এবং সম্মুখপেশীর সাহায্যে শিকারকে আঁকড়ে ধরে মাটিতে আছড়ে ফেলে। শিকার দমবন্ধ হয়ে না মরা পর্যন্ত বাঘ গলা আঁকড়ে ধরেই থাকে।\n"
     ]
    }
   ],
   "source": [
    "print(itext)"
   ]
  },
  {
   "cell_type": "code",
   "execution_count": 4,
   "id": "a2a822c9-1f94-4109-8769-4c975912fb0c",
   "metadata": {},
   "outputs": [],
   "source": [
    "# import the class\n",
    "from sumy.summarizers.text_rank import TextRankSummarizer"
   ]
  },
  {
   "cell_type": "code",
   "execution_count": 5,
   "id": "15d765a6-7aeb-48e6-bab9-56f181e2990c",
   "metadata": {},
   "outputs": [],
   "source": [
    "# import parser and tokenizers\n",
    "from sumy.parsers.plaintext import PlaintextParser\n",
    "from sumy.nlp.tokenizers import Tokenizer"
   ]
  },
  {
   "cell_type": "code",
   "execution_count": 7,
   "id": "5729c02a-a496-4bdb-b895-21b0d882176c",
   "metadata": {},
   "outputs": [],
   "source": [
    "# Initialize the parser\n",
    "my_parser = PlaintextParser.from_string(itext,Tokenizer('english'))"
   ]
  },
  {
   "cell_type": "code",
   "execution_count": 8,
   "id": "de14613a-e86d-47e4-ba2d-5809b1847a3a",
   "metadata": {},
   "outputs": [],
   "source": [
    "# Create the object of summarizer\n",
    "tex_rank_summarizer = TextRankSummarizer()"
   ]
  },
  {
   "cell_type": "code",
   "execution_count": 9,
   "id": "32922832-38f8-489e-bde1-497e6792f343",
   "metadata": {},
   "outputs": [],
   "source": [
    "# Extract top 3 sentences\n",
    "summary = tex_rank_summarizer(my_parser.document, sentences_count=3)"
   ]
  },
  {
   "cell_type": "code",
   "execution_count": 10,
   "id": "99fe4cc1-4f3d-4c35-a6e1-2fab56211350",
   "metadata": {},
   "outputs": [
    {
     "data": {
      "text/plain": [
       "(<Sentence: বাঘ (Panthera tigris) বড় বিড়াল জাতের অন্তর্ভুক্ত একটি স্তন্যপায়ী প্রাণী। সিংহ, চিতাবাঘ ও জাগুয়ারের সঙ্গে প্যানথেরা গণের চারটি বিশালাকার সদস্যের মধ্যে এটি সর্ব বৃহৎ ও শক্তিশালী প্রাণী। এটি ফেলিডি পরিবারের অন্তর্ভুক্ত সবচেয়ে বড় প্রাণী। বাঘ ভারত ও বাংলাদেশ সহ মোট ৬ টি দেশের জাতীয় পশু। পূর্ব ও দক্ষিণ এশিয়ার অনেক এলাকায় একে দেখা যায়। 'অ্যানিম্যাল প্ল্যানেট' চ্যানেলের সমীক্ষা অনুযায়ী বাঘ বিশ্বের সবচেয়ে জনপ্রিয় প্রাণী।[৩]>,\n",
       " <Sentence: বাঘ সাধারণত একা একা থাকে ও শিকার করে। তবে বাচ্চারা ২ বছর বয়স পর্যন্ত মায়ের সাথে থাকে।>,\n",
       " <Sentence: বাঘ সহসা বাধ্য না হলে খাঁচার মতো আবদ্ধ জায়গায় ঢুকতে সাহস করে না। এমনকি মানুষখেকো হলেও না। তবে আক্রান্ত বাঘ খুব মারমুখী হয়ে থাকে।[৪] বিভিন্ন নিরামিষাশী, বুনো বা গৃহপালিত প্রাণী (চিত্রা হরিণ, সম্বর হরিণ, মহিষ, গৌড়, বুনো শূকর, বানর ইত্যাদি, সুযোগ পেলে গরু- ছাগল,কুকুর ইত্যাদি) বাঘের খাদ্য। তবে খিদে পেলে বাঘ চিতাবাঘ,কুমির, ভাল্লুক বা অজগরকেও ছাড়েনা। এমনকি হাতি ও গণ্ডারের বাচ্চার উপরো বাঘ হামলা করে। কিছু সময়ে বাঘ নরখাদক হয়ে যায়। বাঘ ঘন ঝোপে লুকিয়ে আচমকা হামলা করে শিকার করে। মুলত জলাশয়ের কাছে বাঘ লুকিয়ে থাকে।>)"
      ]
     },
     "execution_count": 10,
     "metadata": {},
     "output_type": "execute_result"
    }
   ],
   "source": [
    "summary"
   ]
  }
 ],
 "metadata": {
  "kernelspec": {
   "display_name": "Python 3 (ipykernel)",
   "language": "python",
   "name": "python3"
  },
  "language_info": {
   "codemirror_mode": {
    "name": "ipython",
    "version": 3
   },
   "file_extension": ".py",
   "mimetype": "text/x-python",
   "name": "python",
   "nbconvert_exporter": "python",
   "pygments_lexer": "ipython3",
   "version": "3.11.7"
  }
 },
 "nbformat": 4,
 "nbformat_minor": 5
}
